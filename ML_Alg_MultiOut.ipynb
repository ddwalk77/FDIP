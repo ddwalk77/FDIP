{
 "cells": [
  {
   "cell_type": "markdown",
   "id": "9f550096-b844-4d95-b7d5-93fea8c7e0c5",
   "metadata": {},
   "source": [
    "# 44688-Data Analytics Capstone Project"
   ]
  },
  {
   "cell_type": "markdown",
   "id": "15d3e94f-a782-4c85-89cb-b28708c2361d",
   "metadata": {},
   "source": [
    "## FDIP (Fire Department Incident Prediction)"
   ]
  },
  {
   "cell_type": "markdown",
   "id": "701afb10-b4b7-4974-9919-45fe27b9453f",
   "metadata": {},
   "source": [
    "##### 03/13/23 - 04/28/23"
   ]
  },
  {
   "cell_type": "markdown",
   "id": "028601f4-6258-4354-b1d6-19e338ea4a80",
   "metadata": {},
   "source": [
    "##### Debra D. \"DeeDee\" Walker"
   ]
  },
  {
   "cell_type": "markdown",
   "id": "577262e4-2391-446e-807c-77fd1893aa31",
   "metadata": {},
   "source": [
    "##### Northwest Missouri State University, Maryville MO 64468, USA"
   ]
  },
  {
   "cell_type": "code",
   "execution_count": 1,
   "id": "603a0356-5291-4614-993b-eeb222579078",
   "metadata": {},
   "outputs": [
    {
     "data": {
      "text/html": [
       "<div>\n",
       "<style scoped>\n",
       "    .dataframe tbody tr th:only-of-type {\n",
       "        vertical-align: middle;\n",
       "    }\n",
       "\n",
       "    .dataframe tbody tr th {\n",
       "        vertical-align: top;\n",
       "    }\n",
       "\n",
       "    .dataframe thead th {\n",
       "        text-align: right;\n",
       "    }\n",
       "</style>\n",
       "<table border=\"1\" class=\"dataframe\">\n",
       "  <thead>\n",
       "    <tr style=\"text-align: right;\">\n",
       "      <th></th>\n",
       "      <th>IM_INCIDENT_KEY</th>\n",
       "      <th>INCIDENT_DATE_TIME</th>\n",
       "      <th>UNITS_ONSCENE</th>\n",
       "      <th>TOTAL_INCIDENT_DURATION</th>\n",
       "      <th>ZIP_CODE</th>\n",
       "      <th>BOROUGH_DESC</th>\n",
       "      <th>INCIDENT_CATEGORY</th>\n",
       "      <th>INCIDENT_CATNUM</th>\n",
       "      <th>LEVEL_CATEGORY</th>\n",
       "      <th>BOROUGH_NUM</th>\n",
       "      <th>Day_of_week</th>\n",
       "      <th>Hour_of_day</th>\n",
       "      <th>MONTH</th>\n",
       "      <th>DAY_NUM</th>\n",
       "      <th>INCIDENT_LENGTH</th>\n",
       "      <th>UNITS_CATEGORY</th>\n",
       "    </tr>\n",
       "  </thead>\n",
       "  <tbody>\n",
       "    <tr>\n",
       "      <th>0</th>\n",
       "      <td>63583742</td>\n",
       "      <td>2018-07-21 12:18:19</td>\n",
       "      <td>1</td>\n",
       "      <td>0.66</td>\n",
       "      <td>10475</td>\n",
       "      <td>2 - Bronx</td>\n",
       "      <td>RESCUE &amp; EMS</td>\n",
       "      <td>3</td>\n",
       "      <td>1</td>\n",
       "      <td>2</td>\n",
       "      <td>Saturday</td>\n",
       "      <td>12</td>\n",
       "      <td>7</td>\n",
       "      <td>6</td>\n",
       "      <td>30min-45min</td>\n",
       "      <td>1</td>\n",
       "    </tr>\n",
       "    <tr>\n",
       "      <th>1</th>\n",
       "      <td>63583743</td>\n",
       "      <td>2018-07-21 12:18:26</td>\n",
       "      <td>1</td>\n",
       "      <td>0.12</td>\n",
       "      <td>11230</td>\n",
       "      <td>4 - Brooklyn</td>\n",
       "      <td>RESCUE &amp; EMS</td>\n",
       "      <td>3</td>\n",
       "      <td>1</td>\n",
       "      <td>4</td>\n",
       "      <td>Saturday</td>\n",
       "      <td>12</td>\n",
       "      <td>7</td>\n",
       "      <td>6</td>\n",
       "      <td>&lt;=15min</td>\n",
       "      <td>1</td>\n",
       "    </tr>\n",
       "    <tr>\n",
       "      <th>2</th>\n",
       "      <td>63584267</td>\n",
       "      <td>2018-07-21 14:16:40</td>\n",
       "      <td>2</td>\n",
       "      <td>0.02</td>\n",
       "      <td>11204</td>\n",
       "      <td>4 - Brooklyn</td>\n",
       "      <td>HAZARDOUS CONDITION-NO FIRE</td>\n",
       "      <td>4</td>\n",
       "      <td>1</td>\n",
       "      <td>4</td>\n",
       "      <td>Saturday</td>\n",
       "      <td>14</td>\n",
       "      <td>7</td>\n",
       "      <td>6</td>\n",
       "      <td>&lt;=15min</td>\n",
       "      <td>2</td>\n",
       "    </tr>\n",
       "    <tr>\n",
       "      <th>3</th>\n",
       "      <td>63584484</td>\n",
       "      <td>2018-07-21 15:07:51</td>\n",
       "      <td>1</td>\n",
       "      <td>0.37</td>\n",
       "      <td>11235</td>\n",
       "      <td>4 - Brooklyn</td>\n",
       "      <td>SERVICE CALL</td>\n",
       "      <td>5</td>\n",
       "      <td>1</td>\n",
       "      <td>4</td>\n",
       "      <td>Saturday</td>\n",
       "      <td>15</td>\n",
       "      <td>7</td>\n",
       "      <td>6</td>\n",
       "      <td>15min-30min</td>\n",
       "      <td>1</td>\n",
       "    </tr>\n",
       "    <tr>\n",
       "      <th>4</th>\n",
       "      <td>63584485</td>\n",
       "      <td>2018-07-21 15:08:36</td>\n",
       "      <td>1</td>\n",
       "      <td>0.32</td>\n",
       "      <td>11208</td>\n",
       "      <td>4 - Brooklyn</td>\n",
       "      <td>RESCUE &amp; EMS</td>\n",
       "      <td>3</td>\n",
       "      <td>1</td>\n",
       "      <td>4</td>\n",
       "      <td>Saturday</td>\n",
       "      <td>15</td>\n",
       "      <td>7</td>\n",
       "      <td>6</td>\n",
       "      <td>15min-30min</td>\n",
       "      <td>1</td>\n",
       "    </tr>\n",
       "  </tbody>\n",
       "</table>\n",
       "</div>"
      ],
      "text/plain": [
       "   IM_INCIDENT_KEY  INCIDENT_DATE_TIME  UNITS_ONSCENE  \\\n",
       "0         63583742 2018-07-21 12:18:19              1   \n",
       "1         63583743 2018-07-21 12:18:26              1   \n",
       "2         63584267 2018-07-21 14:16:40              2   \n",
       "3         63584484 2018-07-21 15:07:51              1   \n",
       "4         63584485 2018-07-21 15:08:36              1   \n",
       "\n",
       "   TOTAL_INCIDENT_DURATION  ZIP_CODE  BOROUGH_DESC  \\\n",
       "0                     0.66     10475     2 - Bronx   \n",
       "1                     0.12     11230  4 - Brooklyn   \n",
       "2                     0.02     11204  4 - Brooklyn   \n",
       "3                     0.37     11235  4 - Brooklyn   \n",
       "4                     0.32     11208  4 - Brooklyn   \n",
       "\n",
       "             INCIDENT_CATEGORY  INCIDENT_CATNUM  LEVEL_CATEGORY  BOROUGH_NUM  \\\n",
       "0                 RESCUE & EMS                3               1            2   \n",
       "1                 RESCUE & EMS                3               1            4   \n",
       "2  HAZARDOUS CONDITION-NO FIRE                4               1            4   \n",
       "3                 SERVICE CALL                5               1            4   \n",
       "4                 RESCUE & EMS                3               1            4   \n",
       "\n",
       "  Day_of_week  Hour_of_day  MONTH  DAY_NUM INCIDENT_LENGTH UNITS_CATEGORY  \n",
       "0    Saturday           12      7        6     30min-45min              1  \n",
       "1    Saturday           12      7        6         <=15min              1  \n",
       "2    Saturday           14      7        6         <=15min              2  \n",
       "3    Saturday           15      7        6     15min-30min              1  \n",
       "4    Saturday           15      7        6     15min-30min              1  "
      ]
     },
     "execution_count": 1,
     "metadata": {},
     "output_type": "execute_result"
    }
   ],
   "source": [
    "#Import the pandas framework to import and work with the dataset\n",
    "import pandas as pd\n",
    "\n",
    "#Import numpy\n",
    "import numpy as np\n",
    "\n",
    "#Import datetime so we can work with dates and times\n",
    "import datetime as dt\n",
    "\n",
    "#Original data was accessed through the csv file download due to the limitations of the API on the site for this large dataset. The API endpoint limits hits and requires data to be requested by page\n",
    "# Data was pulled from https://data.cityofnewyork.us/Public-Safety/Incidents-Responded-to-by-Fire-Companies/tm6d-hbzd on March 16, 2023 then cleaned for use.\n",
    "#Use the function read_csv from pandas and create a dataframe assigned to variable df\n",
    "df = pd.read_csv('fdip_clean.csv', sep=',')\n",
    "\n",
    "#convert INCIDENT_DATE_TIME from object to datetime format\n",
    "df['INCIDENT_DATE_TIME'] = pd.to_datetime(df['INCIDENT_DATE_TIME'], infer_datetime_format = True)\n",
    "\n",
    "df.head(n=5)"
   ]
  },
  {
   "cell_type": "markdown",
   "id": "dba249da-cadc-4d6d-b2ed-f55751c5cf55",
   "metadata": {},
   "source": [
    "##### Level Catergory is being dropped from the predictions because it is too skewed to the level of one to gain valid information and we can gain enough\n",
    "#####  information from incident category, incident length, and units catergory"
   ]
  },
  {
   "cell_type": "markdown",
   "id": "8f2bbdde-ccf0-4fa0-a819-acda1ffda486",
   "metadata": {},
   "source": [
    "#### Split Data and extract features"
   ]
  },
  {
   "cell_type": "code",
   "execution_count": 2,
   "id": "49cb815d-3a5d-487e-9034-0661300ab5f5",
   "metadata": {},
   "outputs": [
    {
     "name": "stdout",
     "output_type": "stream",
     "text": [
      "Train size:  1872331 1872331 Test size:  468083 468083\n"
     ]
    }
   ],
   "source": [
    "from sklearn.model_selection import train_test_split\n",
    "\n",
    "Xfeatures = df[['ZIP_CODE','BOROUGH_NUM','MONTH','Hour_of_day','DAY_NUM']]\n",
    "ylabels = df[['INCIDENT_CATEGORY','INCIDENT_LENGTH','UNITS_CATEGORY']]\n",
    "Xtrain, Xtest, ytrain, ytest = train_test_split(Xfeatures, ylabels, train_size=0.8, random_state=50)\n",
    "print('Train size: ', len(Xtrain), len(ytrain), 'Test size: ', len(Xtest), len(ytest))"
   ]
  },
  {
   "cell_type": "markdown",
   "id": "c5cb34f0-6447-4f75-bd38-0398fe0267d6",
   "metadata": {},
   "source": [
    "#### Import sklearn classifiers, pipelines, etc. for models"
   ]
  },
  {
   "cell_type": "code",
   "execution_count": 8,
   "id": "f4867b52-1ded-4452-8850-048bff67c1a9",
   "metadata": {},
   "outputs": [],
   "source": [
    "from sklearn.ensemble import RandomForestClassifier\n",
    "from sklearn.neural_network import MLPClassifier\n",
    "from sklearn.linear_model import SGDClassifier\n",
    "from sklearn.multioutput import MultiOutputClassifier"
   ]
  },
  {
   "cell_type": "markdown",
   "id": "89a5b9a1-e8fc-4af6-840a-c32c47596df8",
   "metadata": {},
   "source": [
    "#### Random Forest with MultiOutput"
   ]
  },
  {
   "cell_type": "code",
   "execution_count": 4,
   "id": "c53bdede-1c2e-42ab-b053-74cda8811b00",
   "metadata": {},
   "outputs": [
    {
     "name": "stdout",
     "output_type": "stream",
     "text": [
      "Predicted y: [['RESCUE & EMS' '<=15min' '1']\n",
      " ['RESCUE & EMS' '<=15min' '1']\n",
      " ['RESCUE & EMS' '<=15min' '1']\n",
      " ...\n",
      " ['RESCUE & EMS' '<=15min' '1']\n",
      " ['RESCUE & EMS' '<=15min' '1']\n",
      " ['RESCUE & EMS' '<=15min' '1']]\n",
      "\n",
      "Predicted probabilities: [array([[7.46755184e-02, 1.45133085e-01, 7.44992014e-02, ...,\n",
      "        5.04652065e-01, 1.08171309e-01, 1.90378311e-04],\n",
      "       [7.49288513e-02, 1.49601942e-01, 7.51066994e-02, ...,\n",
      "        5.10025674e-01, 9.38335868e-02, 2.20612037e-04],\n",
      "       [7.99319510e-02, 1.32734845e-01, 8.65142016e-02, ...,\n",
      "        4.88052641e-01, 1.08306071e-01, 3.92011471e-04],\n",
      "       ...,\n",
      "       [5.88627105e-02, 1.93682580e-01, 6.41083245e-02, ...,\n",
      "        5.49007001e-01, 6.38361123e-02, 1.88244162e-04],\n",
      "       [7.47025701e-02, 1.46160315e-01, 7.90306671e-02, ...,\n",
      "        5.17219042e-01, 9.22862831e-02, 1.49119335e-04],\n",
      "       [8.40275022e-02, 1.36774438e-01, 8.37151418e-02, ...,\n",
      "        4.80295737e-01, 1.09656609e-01, 2.83628793e-04]]), array([[0.02798953, 0.39026281, 0.00440123, ..., 0.00334993, 0.02962794,\n",
      "        0.46318813],\n",
      "       [0.02547471, 0.39016087, 0.00325491, ..., 0.00250573, 0.0256408 ,\n",
      "        0.4855298 ],\n",
      "       [0.03524323, 0.3957352 , 0.00418508, ..., 0.00198388, 0.02810817,\n",
      "        0.46788386],\n",
      "       ...,\n",
      "       [0.03671661, 0.40154233, 0.00508947, ..., 0.00199385, 0.0302362 ,\n",
      "        0.45131802],\n",
      "       [0.02550517, 0.39012049, 0.00324394, ..., 0.00248996, 0.02587233,\n",
      "        0.48464579],\n",
      "       [0.02547582, 0.3906784 , 0.00325851, ..., 0.00251573, 0.02564833,\n",
      "        0.48497321]]), array([[0.61455376, 0.19741741, 0.06774683, ..., 0.03749693, 0.03372943,\n",
      "        0.01050405],\n",
      "       [0.62819613, 0.16433981, 0.07900347, ..., 0.03924231, 0.04165422,\n",
      "        0.00851937],\n",
      "       [0.62147911, 0.19844048, 0.06406222, ..., 0.03660041, 0.03423005,\n",
      "        0.00901065],\n",
      "       ...,\n",
      "       [0.65234693, 0.17941777, 0.06160029, ..., 0.03428323, 0.03258235,\n",
      "        0.0087795 ],\n",
      "       [0.62801484, 0.16409719, 0.07827197, ..., 0.03957783, 0.04241227,\n",
      "        0.00854598],\n",
      "       [0.60131811, 0.1601404 , 0.08802337, ..., 0.0466207 , 0.04752382,\n",
      "        0.00920997]])]\n",
      "\n",
      "The mean accuracy on the given test data and labels: 0.188129662970917\n"
     ]
    }
   ],
   "source": [
    "forest_model = RandomForestClassifier(random_state=50, max_depth=6)\n",
    "multi_forest = MultiOutputClassifier(forest_model)\n",
    "multi_forest.fit(Xtrain,ytrain)\n",
    "y_pred = multi_forest.predict(Xtrain)\n",
    "print(\"Predicted y:\", y_pred)\n",
    "print()\n",
    "print(\"Predicted probabilities:\", multi_forest.predict_proba(Xtrain))\n",
    "print()\n",
    "print(\"The mean accuracy on the given test data and labels:\", multi_forest.score(Xtrain,ytrain))"
   ]
  },
  {
   "cell_type": "markdown",
   "id": "72817aed-0f09-4321-b63a-a04e5be09093",
   "metadata": {},
   "source": [
    "##### Neural Network (MLP Classifier) with MultiOutput"
   ]
  },
  {
   "cell_type": "code",
   "execution_count": 5,
   "id": "3eecb0c0-060b-4d1b-85e6-b19d8c32bd7e",
   "metadata": {},
   "outputs": [
    {
     "name": "stdout",
     "output_type": "stream",
     "text": [
      "Predicted y: [['RESCUE & EMS' '15min-30min' '1']\n",
      " ['RESCUE & EMS' '<=15min' '1']\n",
      " ['RESCUE & EMS' '<=15min' '1']\n",
      " ...\n",
      " ['RESCUE & EMS' '<=15min' '1']\n",
      " ['RESCUE & EMS' '<=15min' '1']\n",
      " ['RESCUE & EMS' '<=15min' '1']]\n",
      "\n",
      "Predicted probabilities: [array([[7.95953745e-02, 1.64549882e-01, 7.35318745e-02, ...,\n",
      "        4.91311608e-01, 1.03594490e-01, 1.50535983e-04],\n",
      "       [7.95953745e-02, 1.64549882e-01, 7.35318745e-02, ...,\n",
      "        4.91311608e-01, 1.03594490e-01, 1.50535983e-04],\n",
      "       [7.95953745e-02, 1.64549882e-01, 7.35318745e-02, ...,\n",
      "        4.91311608e-01, 1.03594490e-01, 1.50535983e-04],\n",
      "       ...,\n",
      "       [7.95953745e-02, 1.64549882e-01, 7.35318745e-02, ...,\n",
      "        4.91311608e-01, 1.03594490e-01, 1.50535983e-04],\n",
      "       [7.95953745e-02, 1.64549882e-01, 7.35318745e-02, ...,\n",
      "        4.91311608e-01, 1.03594490e-01, 1.50535983e-04],\n",
      "       [7.95953745e-02, 1.64549882e-01, 7.35318745e-02, ...,\n",
      "        4.91311608e-01, 1.03594490e-01, 1.50535983e-04]]), array([[0.0441957 , 0.41383952, 0.0040512 , ..., 0.00213027, 0.05013437,\n",
      "        0.38458059],\n",
      "       [0.03342504, 0.40793027, 0.00398816, ..., 0.00182141, 0.03555896,\n",
      "        0.43403155],\n",
      "       [0.02464584, 0.39513001, 0.00385784, ..., 0.00152385, 0.0245422 ,\n",
      "        0.48328428],\n",
      "       ...,\n",
      "       [0.02740534, 0.40018318, 0.00390897, ..., 0.00162273, 0.02791486,\n",
      "        0.46665367],\n",
      "       [0.03373754, 0.40822999, 0.00399126, ..., 0.00183115, 0.03596603,\n",
      "        0.43245269],\n",
      "       [0.03563584, 0.40986354, 0.00400823, ..., 0.00188926, 0.0384597 ,\n",
      "        0.42307189]]), array([[0.61549475, 0.16170057, 0.08352442, ..., 0.04388168, 0.04522963,\n",
      "        0.00861285],\n",
      "       [0.61549475, 0.16170057, 0.08352442, ..., 0.04388168, 0.04522963,\n",
      "        0.00861285],\n",
      "       [0.61549475, 0.16170057, 0.08352442, ..., 0.04388168, 0.04522963,\n",
      "        0.00861285],\n",
      "       ...,\n",
      "       [0.61549475, 0.16170057, 0.08352442, ..., 0.04388168, 0.04522963,\n",
      "        0.00861285],\n",
      "       [0.61549475, 0.16170057, 0.08352442, ..., 0.04388168, 0.04522963,\n",
      "        0.00861285],\n",
      "       [0.61549475, 0.16170057, 0.08352442, ..., 0.04388168, 0.04522963,\n",
      "        0.00861285]])]\n",
      "\n",
      "The mean accuracy on the given test data and labels: 0.1791739815235661\n"
     ]
    }
   ],
   "source": [
    "mlp_model = MLPClassifier(random_state=50)\n",
    "multi_mlp = MultiOutputClassifier(mlp_model)\n",
    "multi_mlp.fit(Xtrain,ytrain)\n",
    "y_pred = multi_mlp.predict(Xtrain)\n",
    "print(\"Predicted y:\", y_pred)\n",
    "print()\n",
    "print(\"Predicted probabilities:\", multi_mlp.predict_proba(Xtrain))\n",
    "print()\n",
    "print(\"The mean accuracy on the given test data and labels:\", multi_mlp.score(Xtrain,ytrain))"
   ]
  },
  {
   "cell_type": "markdown",
   "id": "ad48cba0-be68-492b-87f4-a7b6eee080fe",
   "metadata": {},
   "source": [
    "##### Stochastic gradient boosting (SGDClassifier) with MultiOutput"
   ]
  },
  {
   "cell_type": "code",
   "execution_count": 11,
   "id": "32baa97f-a3ff-4760-843e-56d608976df1",
   "metadata": {},
   "outputs": [
    {
     "name": "stdout",
     "output_type": "stream",
     "text": [
      "Predicted y: [['RESCUE & EMS' '15min-30min' '1']\n",
      " ['RESCUE & EMS' '15min-30min' '1']\n",
      " ['RESCUE & EMS' '15min-30min' '1']\n",
      " ...\n",
      " ['RESCUE & EMS' '15min-30min' '1']\n",
      " ['RESCUE & EMS' '15min-30min' '1']\n",
      " ['RESCUE & EMS' '15min-30min' '1']]\n",
      "\n",
      "Predicted probabilities: [array([[0., 0., 0., ..., 1., 0., 0.],\n",
      "       [0., 0., 0., ..., 1., 0., 0.],\n",
      "       [0., 0., 0., ..., 1., 0., 0.],\n",
      "       ...,\n",
      "       [0., 0., 0., ..., 1., 0., 0.],\n",
      "       [0., 0., 0., ..., 1., 0., 0.],\n",
      "       [0., 0., 0., ..., 1., 0., 0.]]), array([[0.14285714, 0.14285714, 0.14285714, ..., 0.14285714, 0.14285714,\n",
      "        0.14285714],\n",
      "       [0.14285714, 0.14285714, 0.14285714, ..., 0.14285714, 0.14285714,\n",
      "        0.14285714],\n",
      "       [0.14285714, 0.14285714, 0.14285714, ..., 0.14285714, 0.14285714,\n",
      "        0.14285714],\n",
      "       ...,\n",
      "       [0.14285714, 0.14285714, 0.14285714, ..., 0.14285714, 0.14285714,\n",
      "        0.14285714],\n",
      "       [0.14285714, 0.14285714, 0.14285714, ..., 0.14285714, 0.14285714,\n",
      "        0.14285714],\n",
      "       [0.14285714, 0.14285714, 0.14285714, ..., 0.14285714, 0.14285714,\n",
      "        0.14285714]]), array([[1., 0., 0., ..., 0., 0., 0.],\n",
      "       [1., 0., 0., ..., 0., 0., 0.],\n",
      "       [1., 0., 0., ..., 0., 0., 0.],\n",
      "       ...,\n",
      "       [1., 0., 0., ..., 0., 0., 0.],\n",
      "       [1., 0., 0., ..., 0., 0., 0.],\n",
      "       [1., 0., 0., ..., 0., 0., 0.]])]\n",
      "\n",
      "The mean accuracy on the given test data and labels: 0.1791814588339348\n"
     ]
    }
   ],
   "source": [
    "sgd_model = SGDClassifier(random_state=50, early_stopping=True, loss='modified_huber')\n",
    "multi_sgd = MultiOutputClassifier(sgd_model)\n",
    "multi_sgd.fit(Xtrain,ytrain)\n",
    "y_pred = multi_sgd.predict(Xtrain)\n",
    "print(\"Predicted y:\", y_pred)\n",
    "print()\n",
    "print(\"Predicted probabilities:\", multi_sgd.predict_proba(Xtrain))\n",
    "print()\n",
    "print(\"The mean accuracy on the given test data and labels:\", multi_sgd.score(Xtrain,ytrain))"
   ]
  }
 ],
 "metadata": {
  "kernelspec": {
   "display_name": "Python 3 (ipykernel)",
   "language": "python",
   "name": "python3"
  },
  "language_info": {
   "codemirror_mode": {
    "name": "ipython",
    "version": 3
   },
   "file_extension": ".py",
   "mimetype": "text/x-python",
   "name": "python",
   "nbconvert_exporter": "python",
   "pygments_lexer": "ipython3",
   "version": "3.11.0"
  }
 },
 "nbformat": 4,
 "nbformat_minor": 5
}
