{
 "cells": [
  {
   "cell_type": "markdown",
   "id": "60339aa1-b825-4eb1-bcf5-1df9a6e598f4",
   "metadata": {},
   "source": [
    "# 44688-Data Analytics Capstone Project"
   ]
  },
  {
   "cell_type": "markdown",
   "id": "0cb1d803-58dd-4bce-9d28-252ddcca4cb8",
   "metadata": {},
   "source": [
    "## FDIP (Fire Department Incident Prediction)"
   ]
  },
  {
   "cell_type": "markdown",
   "id": "a30eb2fc-b90c-474d-84a2-8d1ff740401d",
   "metadata": {},
   "source": [
    "##### 03/13/23 - 04/28/23"
   ]
  },
  {
   "cell_type": "markdown",
   "id": "f4fb8853-235b-4b79-bf32-52a03503f597",
   "metadata": {},
   "source": [
    "##### Debra D. \"DeeDee\" Walker"
   ]
  },
  {
   "cell_type": "markdown",
   "id": "0e469581-09b0-49d7-a603-d978f01b310b",
   "metadata": {},
   "source": [
    "##### Northwest Missouri State University, Maryville MO 64468, USA"
   ]
  },
  {
   "cell_type": "code",
   "execution_count": 1,
   "id": "ce915df7-e14e-43eb-a32f-4e843edf548a",
   "metadata": {},
   "outputs": [
    {
     "data": {
      "text/html": [
       "<div>\n",
       "<style scoped>\n",
       "    .dataframe tbody tr th:only-of-type {\n",
       "        vertical-align: middle;\n",
       "    }\n",
       "\n",
       "    .dataframe tbody tr th {\n",
       "        vertical-align: top;\n",
       "    }\n",
       "\n",
       "    .dataframe thead th {\n",
       "        text-align: right;\n",
       "    }\n",
       "</style>\n",
       "<table border=\"1\" class=\"dataframe\">\n",
       "  <thead>\n",
       "    <tr style=\"text-align: right;\">\n",
       "      <th></th>\n",
       "      <th>IM_INCIDENT_KEY</th>\n",
       "      <th>INCIDENT_DATE_TIME</th>\n",
       "      <th>UNITS_ONSCENE</th>\n",
       "      <th>TOTAL_INCIDENT_DURATION</th>\n",
       "      <th>ZIP_CODE</th>\n",
       "      <th>BOROUGH_DESC</th>\n",
       "      <th>INCIDENT_CATEGORY</th>\n",
       "      <th>INCIDENT_CATNUM</th>\n",
       "      <th>LEVEL_CATEGORY</th>\n",
       "      <th>BOROUGH_NUM</th>\n",
       "      <th>Day_of_week</th>\n",
       "      <th>Hour_of_day</th>\n",
       "      <th>MONTH</th>\n",
       "      <th>DAY_NUM</th>\n",
       "      <th>INCIDENT_LENGTH</th>\n",
       "      <th>UNITS_CATEGORY</th>\n",
       "    </tr>\n",
       "  </thead>\n",
       "  <tbody>\n",
       "    <tr>\n",
       "      <th>0</th>\n",
       "      <td>63583742</td>\n",
       "      <td>2018-07-21 12:18:19</td>\n",
       "      <td>1</td>\n",
       "      <td>0.66</td>\n",
       "      <td>10475</td>\n",
       "      <td>2 - Bronx</td>\n",
       "      <td>RESCUE &amp; EMS</td>\n",
       "      <td>3</td>\n",
       "      <td>1</td>\n",
       "      <td>2</td>\n",
       "      <td>Saturday</td>\n",
       "      <td>12</td>\n",
       "      <td>7</td>\n",
       "      <td>6</td>\n",
       "      <td>30min-45min</td>\n",
       "      <td>1</td>\n",
       "    </tr>\n",
       "    <tr>\n",
       "      <th>1</th>\n",
       "      <td>63583743</td>\n",
       "      <td>2018-07-21 12:18:26</td>\n",
       "      <td>1</td>\n",
       "      <td>0.12</td>\n",
       "      <td>11230</td>\n",
       "      <td>4 - Brooklyn</td>\n",
       "      <td>RESCUE &amp; EMS</td>\n",
       "      <td>3</td>\n",
       "      <td>1</td>\n",
       "      <td>4</td>\n",
       "      <td>Saturday</td>\n",
       "      <td>12</td>\n",
       "      <td>7</td>\n",
       "      <td>6</td>\n",
       "      <td>&lt;=15min</td>\n",
       "      <td>1</td>\n",
       "    </tr>\n",
       "    <tr>\n",
       "      <th>2</th>\n",
       "      <td>63584267</td>\n",
       "      <td>2018-07-21 14:16:40</td>\n",
       "      <td>2</td>\n",
       "      <td>0.02</td>\n",
       "      <td>11204</td>\n",
       "      <td>4 - Brooklyn</td>\n",
       "      <td>HAZARDOUS CONDITION-NO FIRE</td>\n",
       "      <td>4</td>\n",
       "      <td>1</td>\n",
       "      <td>4</td>\n",
       "      <td>Saturday</td>\n",
       "      <td>14</td>\n",
       "      <td>7</td>\n",
       "      <td>6</td>\n",
       "      <td>&lt;=15min</td>\n",
       "      <td>2</td>\n",
       "    </tr>\n",
       "    <tr>\n",
       "      <th>3</th>\n",
       "      <td>63584484</td>\n",
       "      <td>2018-07-21 15:07:51</td>\n",
       "      <td>1</td>\n",
       "      <td>0.37</td>\n",
       "      <td>11235</td>\n",
       "      <td>4 - Brooklyn</td>\n",
       "      <td>SERVICE CALL</td>\n",
       "      <td>5</td>\n",
       "      <td>1</td>\n",
       "      <td>4</td>\n",
       "      <td>Saturday</td>\n",
       "      <td>15</td>\n",
       "      <td>7</td>\n",
       "      <td>6</td>\n",
       "      <td>15min-30min</td>\n",
       "      <td>1</td>\n",
       "    </tr>\n",
       "    <tr>\n",
       "      <th>4</th>\n",
       "      <td>63584485</td>\n",
       "      <td>2018-07-21 15:08:36</td>\n",
       "      <td>1</td>\n",
       "      <td>0.32</td>\n",
       "      <td>11208</td>\n",
       "      <td>4 - Brooklyn</td>\n",
       "      <td>RESCUE &amp; EMS</td>\n",
       "      <td>3</td>\n",
       "      <td>1</td>\n",
       "      <td>4</td>\n",
       "      <td>Saturday</td>\n",
       "      <td>15</td>\n",
       "      <td>7</td>\n",
       "      <td>6</td>\n",
       "      <td>15min-30min</td>\n",
       "      <td>1</td>\n",
       "    </tr>\n",
       "  </tbody>\n",
       "</table>\n",
       "</div>"
      ],
      "text/plain": [
       "   IM_INCIDENT_KEY  INCIDENT_DATE_TIME  UNITS_ONSCENE  \\\n",
       "0         63583742 2018-07-21 12:18:19              1   \n",
       "1         63583743 2018-07-21 12:18:26              1   \n",
       "2         63584267 2018-07-21 14:16:40              2   \n",
       "3         63584484 2018-07-21 15:07:51              1   \n",
       "4         63584485 2018-07-21 15:08:36              1   \n",
       "\n",
       "   TOTAL_INCIDENT_DURATION  ZIP_CODE  BOROUGH_DESC  \\\n",
       "0                     0.66     10475     2 - Bronx   \n",
       "1                     0.12     11230  4 - Brooklyn   \n",
       "2                     0.02     11204  4 - Brooklyn   \n",
       "3                     0.37     11235  4 - Brooklyn   \n",
       "4                     0.32     11208  4 - Brooklyn   \n",
       "\n",
       "             INCIDENT_CATEGORY  INCIDENT_CATNUM  LEVEL_CATEGORY  BOROUGH_NUM  \\\n",
       "0                 RESCUE & EMS                3               1            2   \n",
       "1                 RESCUE & EMS                3               1            4   \n",
       "2  HAZARDOUS CONDITION-NO FIRE                4               1            4   \n",
       "3                 SERVICE CALL                5               1            4   \n",
       "4                 RESCUE & EMS                3               1            4   \n",
       "\n",
       "  Day_of_week  Hour_of_day  MONTH  DAY_NUM INCIDENT_LENGTH UNITS_CATEGORY  \n",
       "0    Saturday           12      7        6     30min-45min              1  \n",
       "1    Saturday           12      7        6         <=15min              1  \n",
       "2    Saturday           14      7        6         <=15min              2  \n",
       "3    Saturday           15      7        6     15min-30min              1  \n",
       "4    Saturday           15      7        6     15min-30min              1  "
      ]
     },
     "execution_count": 1,
     "metadata": {},
     "output_type": "execute_result"
    }
   ],
   "source": [
    "#Import the pandas framework to import and work with the dataset\n",
    "import pandas as pd\n",
    "\n",
    "#Import numpy\n",
    "import numpy as np\n",
    "\n",
    "#Import datetime so we can work with dates and times\n",
    "import datetime as dt\n",
    "\n",
    "#graphic imports\n",
    "import matplotlib.pyplot as plt\n",
    "%matplotlib inline\n",
    "\n",
    "#import metrics and stats we may use\n",
    "from sklearn.metrics import confusion_matrix, ConfusionMatrixDisplay\n",
    "from sklearn.metrics import accuracy_score, f1_score\n",
    "from sklearn.metrics import precision_score, recall_score\n",
    "from sklearn.metrics import classification_report\n",
    "\n",
    "#Original data was accessed through the csv file download due to the limitations of the API on the site for this large dataset. The API endpoint limits hits and requires data to be requested by page\n",
    "# Data was pulled from https://data.cityofnewyork.us/Public-Safety/Incidents-Responded-to-by-Fire-Companies/tm6d-hbzd on March 16, 2023 then cleaned for use.\n",
    "#Use the function read_csv from pandas and create a dataframe assigned to variable df\n",
    "df = pd.read_csv('fdip_clean.csv', sep=',')\n",
    "\n",
    "#convert INCIDENT_DATE_TIME from object to datetime format\n",
    "df['INCIDENT_DATE_TIME'] = pd.to_datetime(df['INCIDENT_DATE_TIME'], infer_datetime_format = True)\n",
    "\n",
    "df.head(n=5)"
   ]
  },
  {
   "cell_type": "markdown",
   "id": "363f2adf-b44e-4704-82b7-74efd985b7d6",
   "metadata": {},
   "source": [
    "##### Level Catergory is being dropped from the predictions because it is too skewed to the level of one to gain valid information and we can gain enough\n",
    "#####  information from incident category, incident length, and units catergory"
   ]
  },
  {
   "cell_type": "markdown",
   "id": "e0de9652-34c7-4552-a432-6669681454be",
   "metadata": {},
   "source": [
    "#### Import sklearn classifiers, etc. for models"
   ]
  },
  {
   "cell_type": "code",
   "execution_count": 2,
   "id": "75bf8bb0-048e-41a2-95df-f5ab63826951",
   "metadata": {},
   "outputs": [],
   "source": [
    "from sklearn.linear_model import SGDClassifier\n",
    "from sklearn.model_selection import GridSearchCV"
   ]
  },
  {
   "cell_type": "markdown",
   "id": "b6257de5-19e8-46df-80ba-c3c3a5bec6cc",
   "metadata": {},
   "source": [
    "#### Split Data and extract features with single y, incident category"
   ]
  },
  {
   "cell_type": "code",
   "execution_count": 3,
   "id": "36f040d3-72f5-4be9-bfbb-c357485cb3f8",
   "metadata": {},
   "outputs": [],
   "source": [
    "from sklearn.model_selection import train_test_split\n",
    "\n",
    "Xfeatures = df[['ZIP_CODE','Hour_of_day']]\n",
    "ylabel = df[['INCIDENT_CATEGORY']]\n",
    "Xtrain, Xtest, ytrain, ytest = train_test_split(Xfeatures, ylabel, train_size=0.8, random_state=50)"
   ]
  },
  {
   "cell_type": "markdown",
   "id": "672ef87a-c6f1-456d-819f-40ff872f9557",
   "metadata": {},
   "source": [
    "##### Stochastic gradient boosting (SGDClassifier)"
   ]
  },
  {
   "cell_type": "code",
   "execution_count": 5,
   "id": "39801441-b2c7-41bc-ac61-6b944fb4b4a5",
   "metadata": {},
   "outputs": [
    {
     "name": "stderr",
     "output_type": "stream",
     "text": [
      "C:\\Users\\ddwal\\anaconda3\\envs\\py311\\Lib\\site-packages\\sklearn\\utils\\validation.py:1143: DataConversionWarning: A column-vector y was passed when a 1d array was expected. Please change the shape of y to (n_samples, ), for example using ravel().\n",
      "  y = column_or_1d(y, warn=True)\n"
     ]
    },
    {
     "name": "stdout",
     "output_type": "stream",
     "text": [
      "Predicted y: ['RESCUE & EMS' 'RESCUE & EMS' 'RESCUE & EMS' ... 'RESCUE & EMS'\n",
      " 'RESCUE & EMS' 'RESCUE & EMS']\n",
      "\n",
      "Predicted probabilities: [[0. 0. 0. ... 1. 0. 0.]\n",
      " [0. 0. 0. ... 1. 0. 0.]\n",
      " [0. 0. 0. ... 1. 0. 0.]\n",
      " ...\n",
      " [0. 0. 0. ... 1. 0. 0.]\n",
      " [0. 0. 0. ... 1. 0. 0.]\n",
      " [0. 0. 0. ... 1. 0. 0.]]\n",
      "\n",
      "The mean accuracy on the given test data and labels: 0.49412897612655027\n"
     ]
    }
   ],
   "source": [
    "sgd_model = SGDClassifier(random_state=50, loss='log_loss', n_jobs=-1, early_stopping=True)\n",
    "sgd_model.fit(Xtrain,ytrain)\n",
    "y_pred = sgd_model.predict(Xtrain)\n",
    "print(\"Predicted y:\", y_pred)\n",
    "print()\n",
    "print(\"Predicted probabilities:\", sgd_model.predict_proba(Xtrain))\n",
    "print()\n",
    "print(\"The mean accuracy on the given test data and labels:\", sgd_model.score(Xtrain,ytrain))"
   ]
  },
  {
   "cell_type": "code",
   "execution_count": 6,
   "id": "923a58e6-e83e-41c1-9775-3d35c8f8fee0",
   "metadata": {},
   "outputs": [
    {
     "name": "stdout",
     "output_type": "stream",
     "text": [
      "Confusion Matrix\n"
     ]
    },
    {
     "name": "stderr",
     "output_type": "stream",
     "text": [
      "C:\\Users\\ddwal\\anaconda3\\envs\\py311\\Lib\\site-packages\\sklearn\\metrics\\_classification.py:1344: UndefinedMetricWarning: Precision is ill-defined and being set to 0.0 in labels with no predicted samples. Use `zero_division` parameter to control this behavior.\n",
      "  _warn_prf(average, modifier, msg_start, len(result))\n"
     ]
    },
    {
     "name": "stdout",
     "output_type": "stream",
     "text": [
      "Precision is  [0.         0.         0.         0.         0.         0.49412898\n",
      " 0.         0.        ]\n"
     ]
    },
    {
     "name": "stderr",
     "output_type": "stream",
     "text": [
      "C:\\Users\\ddwal\\anaconda3\\envs\\py311\\Lib\\site-packages\\sklearn\\metrics\\_classification.py:1344: UndefinedMetricWarning: Precision is ill-defined and being set to 0.0 in labels with no predicted samples. Use `zero_division` parameter to control this behavior.\n",
      "  _warn_prf(average, modifier, msg_start, len(result))\n"
     ]
    },
    {
     "name": "stdout",
     "output_type": "stream",
     "text": [
      "Precision as macro is  0.061766122015818783\n"
     ]
    },
    {
     "name": "stderr",
     "output_type": "stream",
     "text": [
      "C:\\Users\\ddwal\\anaconda3\\envs\\py311\\Lib\\site-packages\\sklearn\\metrics\\_classification.py:1344: UndefinedMetricWarning: Precision is ill-defined and being set to 0.0 in labels with no predicted samples. Use `zero_division` parameter to control this behavior.\n",
      "  _warn_prf(average, modifier, msg_start, len(result))\n"
     ]
    },
    {
     "name": "stdout",
     "output_type": "stream",
     "text": [
      "Precision as weighted is  0.24416344504787288\n",
      "Recall is  [0. 0. 0. 0. 0. 1. 0. 0.]\n",
      "Recall as macro is  0.125\n",
      "Recall as weighted is  0.49412897612655027\n",
      "F1 is  [0.         0.         0.         0.         0.         0.66142747\n",
      " 0.         0.        ]\n",
      "F1 as macro is  0.08267843406122029\n",
      "F1 as weighted is  0.32683047976333823\n"
     ]
    },
    {
     "name": "stderr",
     "output_type": "stream",
     "text": [
      "C:\\Users\\ddwal\\anaconda3\\envs\\py311\\Lib\\site-packages\\sklearn\\metrics\\_classification.py:1344: UndefinedMetricWarning: Precision and F-score are ill-defined and being set to 0.0 in labels with no predicted samples. Use `zero_division` parameter to control this behavior.\n",
      "  _warn_prf(average, modifier, msg_start, len(result))\n",
      "C:\\Users\\ddwal\\anaconda3\\envs\\py311\\Lib\\site-packages\\sklearn\\metrics\\_classification.py:1344: UndefinedMetricWarning: Precision and F-score are ill-defined and being set to 0.0 in labels with no predicted samples. Use `zero_division` parameter to control this behavior.\n",
      "  _warn_prf(average, modifier, msg_start, len(result))\n"
     ]
    },
    {
     "name": "stdout",
     "output_type": "stream",
     "text": [
      "                                                   precision    recall  f1-score   support\n",
      "\n",
      "                            CANCELED, GOOD INTENT       0.00      0.00      0.00    148554\n",
      "                           FALSE ALARM FALSE CALL       0.00      0.00      0.00    307675\n",
      "                                             FIRE       0.00      0.00      0.00    135477\n",
      "                      HAZARDOUS CONDITION-NO FIRE       0.00      0.00      0.00    153644\n",
      "OVERPRESSURE RUPTURE, EXPLOSION, OVERHEAT-NO FIRE       0.00      0.00      0.00      9350\n",
      "                                     RESCUE & EMS       0.49      1.00      0.66    925173\n",
      "                                     SERVICE CALL       0.00      0.00      0.00    192174\n",
      "                SEVERE WEATHER & NATURAL DISASTER       0.00      0.00      0.00       284\n",
      "\n",
      "                                         accuracy                           0.49   1872331\n",
      "                                        macro avg       0.06      0.12      0.08   1872331\n",
      "                                     weighted avg       0.24      0.49      0.33   1872331\n",
      "\n"
     ]
    },
    {
     "name": "stderr",
     "output_type": "stream",
     "text": [
      "C:\\Users\\ddwal\\anaconda3\\envs\\py311\\Lib\\site-packages\\sklearn\\metrics\\_classification.py:1344: UndefinedMetricWarning: Precision and F-score are ill-defined and being set to 0.0 in labels with no predicted samples. Use `zero_division` parameter to control this behavior.\n",
      "  _warn_prf(average, modifier, msg_start, len(result))\n"
     ]
    },
    {
     "data": {
      "image/png": "[encoded data removed]",
      "text/plain": [
       "<Figure size 640x480 with 2 Axes>"
      ]
     },
     "metadata": {},
     "output_type": "display_data"
    }
   ],
   "source": [
    "print(\"Confusion Matrix\")\n",
    "cm = confusion_matrix(ytrain, y_pred)\n",
    "ConfusionMatrixDisplay(cm).plot()\n",
    "print('Precision is ', precision_score(ytrain, y_pred, average=None))\n",
    "print('Precision as macro is ', precision_score(ytrain, y_pred, average='macro'))\n",
    "print('Precision as weighted is ', precision_score(ytrain, y_pred, average='weighted'))\n",
    "print('Recall is ', recall_score(ytrain, y_pred, average=None))\n",
    "print('Recall as macro is ', recall_score(ytrain, y_pred, average='macro'))\n",
    "print('Recall as weighted is ', recall_score(ytrain, y_pred, average='weighted'))\n",
    "print('F1 is ', f1_score(ytrain, y_pred, average=None))\n",
    "print('F1 as macro is ', f1_score(ytrain, y_pred, average='macro'))\n",
    "print('F1 as weighted is ', f1_score(ytrain, y_pred, average='weighted'))\n",
    "print(classification_report(ytrain, y_pred))"
   ]
  },
  {
   "cell_type": "markdown",
   "id": "75af2052-fe76-4c6b-ae4c-02c1d908e458",
   "metadata": {},
   "source": [
    "#### SGD for y label 2"
   ]
  },
  {
   "cell_type": "code",
   "execution_count": 8,
   "id": "8af52653-deca-4d08-b7ff-898010aa67f1",
   "metadata": {},
   "outputs": [
    {
     "name": "stderr",
     "output_type": "stream",
     "text": [
      "C:\\Users\\ddwal\\anaconda3\\envs\\py311\\Lib\\site-packages\\sklearn\\utils\\validation.py:1143: DataConversionWarning: A column-vector y was passed when a 1d array was expected. Please change the shape of y to (n_samples, ), for example using ravel().\n",
      "  y = column_or_1d(y, warn=True)\n"
     ]
    },
    {
     "name": "stdout",
     "output_type": "stream",
     "text": [
      "Predicted y: ['1' '1' '1' ... '1' '1' '1']\n",
      "\n",
      "Predicted probabilities: [[1. 0. 0. ... 0. 0. 0.]\n",
      " [1. 0. 0. ... 0. 0. 0.]\n",
      " [1. 0. 0. ... 0. 0. 0.]\n",
      " ...\n",
      " [1. 0. 0. ... 0. 0. 0.]\n",
      " [1. 0. 0. ... 0. 0. 0.]\n",
      " [1. 0. 0. ... 0. 0. 0.]]\n",
      "\n",
      "The mean accuracy on the given test data and labels: 0.6163968870888747\n"
     ]
    }
   ],
   "source": [
    "ylabel = df[['UNITS_CATEGORY']]\n",
    "Xtrain, Xtest, ytrain, ytest = train_test_split(Xfeatures, ylabel, train_size=0.8, random_state=50)\n",
    "sgd_model = SGDClassifier(random_state=50, loss='log_loss', n_jobs=-1, early_stopping=True)\n",
    "sgd_model.fit(Xtrain,ytrain)\n",
    "y_pred = sgd_model.predict(Xtrain)\n",
    "print(\"Predicted y:\", y_pred)\n",
    "print()\n",
    "print(\"Predicted probabilities:\", sgd_model.predict_proba(Xtrain))\n",
    "print()\n",
    "print(\"The mean accuracy on the given test data and labels:\", sgd_model.score(Xtrain,ytrain))"
   ]
  },
  {
   "cell_type": "code",
   "execution_count": 9,
   "id": "0416bd86-aad4-4ebd-aac0-696ba22fff8d",
   "metadata": {},
   "outputs": [
    {
     "name": "stdout",
     "output_type": "stream",
     "text": [
      "Confusion Matrix\n"
     ]
    },
    {
     "name": "stderr",
     "output_type": "stream",
     "text": [
      "C:\\Users\\ddwal\\anaconda3\\envs\\py311\\Lib\\site-packages\\sklearn\\metrics\\_classification.py:1344: UndefinedMetricWarning: Precision is ill-defined and being set to 0.0 in labels with no predicted samples. Use `zero_division` parameter to control this behavior.\n",
      "  _warn_prf(average, modifier, msg_start, len(result))\n"
     ]
    },
    {
     "name": "stdout",
     "output_type": "stream",
     "text": [
      "Precision is  [0.61639689 0.         0.         0.         0.         0.\n",
      " 0.        ]\n"
     ]
    },
    {
     "name": "stderr",
     "output_type": "stream",
     "text": [
      "C:\\Users\\ddwal\\anaconda3\\envs\\py311\\Lib\\site-packages\\sklearn\\metrics\\_classification.py:1344: UndefinedMetricWarning: Precision is ill-defined and being set to 0.0 in labels with no predicted samples. Use `zero_division` parameter to control this behavior.\n",
      "  _warn_prf(average, modifier, msg_start, len(result))\n"
     ]
    },
    {
     "name": "stdout",
     "output_type": "stream",
     "text": [
      "Precision as macro is  0.08805669815555353\n"
     ]
    },
    {
     "name": "stderr",
     "output_type": "stream",
     "text": [
      "C:\\Users\\ddwal\\anaconda3\\envs\\py311\\Lib\\site-packages\\sklearn\\metrics\\_classification.py:1344: UndefinedMetricWarning: Precision is ill-defined and being set to 0.0 in labels with no predicted samples. Use `zero_division` parameter to control this behavior.\n",
      "  _warn_prf(average, modifier, msg_start, len(result))\n"
     ]
    },
    {
     "name": "stdout",
     "output_type": "stream",
     "text": [
      "Precision as weighted is  0.379945122412855\n",
      "Recall is  [1. 0. 0. 0. 0. 0. 0.]\n",
      "Recall as macro is  0.14285714285714285\n",
      "Recall as weighted is  0.6163968870888747\n",
      "F1 is  [0.76268012 0.         0.         0.         0.         0.\n",
      " 0.        ]\n",
      "F1 as macro is  0.10895430306617745\n",
      "F1 as weighted is  0.4701136527145074\n"
     ]
    },
    {
     "name": "stderr",
     "output_type": "stream",
     "text": [
      "C:\\Users\\ddwal\\anaconda3\\envs\\py311\\Lib\\site-packages\\sklearn\\metrics\\_classification.py:1344: UndefinedMetricWarning: Precision and F-score are ill-defined and being set to 0.0 in labels with no predicted samples. Use `zero_division` parameter to control this behavior.\n",
      "  _warn_prf(average, modifier, msg_start, len(result))\n",
      "C:\\Users\\ddwal\\anaconda3\\envs\\py311\\Lib\\site-packages\\sklearn\\metrics\\_classification.py:1344: UndefinedMetricWarning: Precision and F-score are ill-defined and being set to 0.0 in labels with no predicted samples. Use `zero_division` parameter to control this behavior.\n",
      "  _warn_prf(average, modifier, msg_start, len(result))\n"
     ]
    },
    {
     "name": "stdout",
     "output_type": "stream",
     "text": [
      "              precision    recall  f1-score   support\n",
      "\n",
      "           1       0.62      1.00      0.76   1154099\n",
      "           2       0.00      0.00      0.00    303752\n",
      "           3       0.00      0.00      0.00    156150\n",
      "           4       0.00      0.00      0.00     78399\n",
      "           5       0.00      0.00      0.00     81386\n",
      "           6       0.00      0.00      0.00     82876\n",
      "   7 or more       0.00      0.00      0.00     15669\n",
      "\n",
      "    accuracy                           0.62   1872331\n",
      "   macro avg       0.09      0.14      0.11   1872331\n",
      "weighted avg       0.38      0.62      0.47   1872331\n",
      "\n"
     ]
    },
    {
     "name": "stderr",
     "output_type": "stream",
     "text": [
      "C:\\Users\\ddwal\\anaconda3\\envs\\py311\\Lib\\site-packages\\sklearn\\metrics\\_classification.py:1344: UndefinedMetricWarning: Precision and F-score are ill-defined and being set to 0.0 in labels with no predicted samples. Use `zero_division` parameter to control this behavior.\n",
      "  _warn_prf(average, modifier, msg_start, len(result))\n"
     ]
    },
    {
     "data": {
      "image/png": "[encoded data removed]",
      "text/plain": [
       "<Figure size 640x480 with 2 Axes>"
      ]
     },
     "metadata": {},
     "output_type": "display_data"
    }
   ],
   "source": [
    "print(\"Confusion Matrix\")\n",
    "cm = confusion_matrix(ytrain, y_pred)\n",
    "ConfusionMatrixDisplay(cm).plot()\n",
    "print('Precision is ', precision_score(ytrain, y_pred, average=None))\n",
    "print('Precision as macro is ', precision_score(ytrain, y_pred, average='macro'))\n",
    "print('Precision as weighted is ', precision_score(ytrain, y_pred, average='weighted'))\n",
    "print('Recall is ', recall_score(ytrain, y_pred, average=None))\n",
    "print('Recall as macro is ', recall_score(ytrain, y_pred, average='macro'))\n",
    "print('Recall as weighted is ', recall_score(ytrain, y_pred, average='weighted'))\n",
    "print('F1 is ', f1_score(ytrain, y_pred, average=None))\n",
    "print('F1 as macro is ', f1_score(ytrain, y_pred, average='macro'))\n",
    "print('F1 as weighted is ', f1_score(ytrain, y_pred, average='weighted'))\n",
    "print(classification_report(ytrain, y_pred))"
   ]
  },
  {
   "cell_type": "markdown",
   "id": "3d6ed5cd-e461-4e06-aa63-fe45cb9adefa",
   "metadata": {},
   "source": [
    "#### SGD for y label 3"
   ]
  },
  {
   "cell_type": "code",
   "execution_count": 10,
   "id": "97fa8478-d919-489f-82f7-c89b87c1ac28",
   "metadata": {},
   "outputs": [
    {
     "name": "stderr",
     "output_type": "stream",
     "text": [
      "C:\\Users\\ddwal\\anaconda3\\envs\\py311\\Lib\\site-packages\\sklearn\\utils\\validation.py:1143: DataConversionWarning: A column-vector y was passed when a 1d array was expected. Please change the shape of y to (n_samples, ), for example using ravel().\n",
      "  y = column_or_1d(y, warn=True)\n"
     ]
    },
    {
     "name": "stdout",
     "output_type": "stream",
     "text": [
      "Predicted y: ['1-2hr' '1-2hr' '1-2hr' ... '1-2hr' '1-2hr' '1-2hr']\n",
      "\n"
     ]
    },
    {
     "name": "stderr",
     "output_type": "stream",
     "text": [
      "C:\\Users\\ddwal\\anaconda3\\envs\\py311\\Lib\\site-packages\\sklearn\\linear_model\\_base.py:440: RuntimeWarning: invalid value encountered in divide\n",
      "  prob /= prob.sum(axis=1).reshape((prob.shape[0], -1))\n"
     ]
    },
    {
     "name": "stdout",
     "output_type": "stream",
     "text": [
      "Predicted probabilities: [[nan nan nan ... nan nan nan]\n",
      " [nan nan nan ... nan nan nan]\n",
      " [nan nan nan ... nan nan nan]\n",
      " ...\n",
      " [nan nan nan ... nan nan nan]\n",
      " [nan nan nan ... nan nan nan]\n",
      " [nan nan nan ... nan nan nan]]\n",
      "\n",
      "The mean accuracy on the given test data and labels: 0.05232194521161056\n"
     ]
    }
   ],
   "source": [
    "ylabel = df[['INCIDENT_LENGTH']]\n",
    "Xtrain, Xtest, ytrain, ytest = train_test_split(Xfeatures, ylabel, train_size=0.8, random_state=50)\n",
    "sgd_model = SGDClassifier(random_state=50, loss='log_loss', n_jobs=-1, early_stopping=True)\n",
    "sgd_model.fit(Xtrain,ytrain)\n",
    "y_pred = sgd_model.predict(Xtrain)\n",
    "print(\"Predicted y:\", y_pred)\n",
    "print()\n",
    "print(\"Predicted probabilities:\", sgd_model.predict_proba(Xtrain))\n",
    "print()\n",
    "print(\"The mean accuracy on the given test data and labels:\", sgd_model.score(Xtrain,ytrain))"
   ]
  },
  {
   "cell_type": "code",
   "execution_count": 11,
   "id": "00281a65-6625-42d5-9436-0a2d07fdf064",
   "metadata": {},
   "outputs": [
    {
     "name": "stdout",
     "output_type": "stream",
     "text": [
      "Confusion Matrix\n"
     ]
    },
    {
     "name": "stderr",
     "output_type": "stream",
     "text": [
      "C:\\Users\\ddwal\\anaconda3\\envs\\py311\\Lib\\site-packages\\sklearn\\metrics\\_classification.py:1344: UndefinedMetricWarning: Precision is ill-defined and being set to 0.0 in labels with no predicted samples. Use `zero_division` parameter to control this behavior.\n",
      "  _warn_prf(average, modifier, msg_start, len(result))\n"
     ]
    },
    {
     "name": "stdout",
     "output_type": "stream",
     "text": [
      "Precision is  [0.04506653 0.         0.         0.08785895 0.         0.\n",
      " 0.        ]\n"
     ]
    },
    {
     "name": "stderr",
     "output_type": "stream",
     "text": [
      "C:\\Users\\ddwal\\anaconda3\\envs\\py311\\Lib\\site-packages\\sklearn\\metrics\\_classification.py:1344: UndefinedMetricWarning: Precision is ill-defined and being set to 0.0 in labels with no predicted samples. Use `zero_division` parameter to control this behavior.\n",
      "  _warn_prf(average, modifier, msg_start, len(result))\n"
     ]
    },
    {
     "name": "stdout",
     "output_type": "stream",
     "text": [
      "Precision as macro is  0.018989354456738994\n"
     ]
    },
    {
     "name": "stderr",
     "output_type": "stream",
     "text": [
      "C:\\Users\\ddwal\\anaconda3\\envs\\py311\\Lib\\site-packages\\sklearn\\metrics\\_classification.py:1344: UndefinedMetricWarning: Precision is ill-defined and being set to 0.0 in labels with no predicted samples. Use `zero_division` parameter to control this behavior.\n",
      "  _warn_prf(average, modifier, msg_start, len(result))\n"
     ]
    },
    {
     "name": "stdout",
     "output_type": "stream",
     "text": [
      "Precision as weighted is  0.010556041458336565\n",
      "Recall is  [0.83004229 0.         0.         0.15353999 0.         0.\n",
      " 0.        ]\n",
      "Recall as macro is  0.14051175416259817\n",
      "Recall as weighted is  0.05232194521161056\n",
      "F1 is  [0.08549137 0.         0.         0.11176406 0.         0.\n",
      " 0.        ]\n",
      "F1 as macro is  0.028179346561451483\n",
      "F1 as weighted is  0.01469801181904268\n"
     ]
    },
    {
     "name": "stderr",
     "output_type": "stream",
     "text": [
      "C:\\Users\\ddwal\\anaconda3\\envs\\py311\\Lib\\site-packages\\sklearn\\metrics\\_classification.py:1344: UndefinedMetricWarning: Precision and F-score are ill-defined and being set to 0.0 in labels with no predicted samples. Use `zero_division` parameter to control this behavior.\n",
      "  _warn_prf(average, modifier, msg_start, len(result))\n",
      "C:\\Users\\ddwal\\anaconda3\\envs\\py311\\Lib\\site-packages\\sklearn\\metrics\\_classification.py:1344: UndefinedMetricWarning: Precision and F-score are ill-defined and being set to 0.0 in labels with no predicted samples. Use `zero_division` parameter to control this behavior.\n",
      "  _warn_prf(average, modifier, msg_start, len(result))\n"
     ]
    },
    {
     "name": "stdout",
     "output_type": "stream",
     "text": [
      "              precision    recall  f1-score   support\n",
      "\n",
      "       1-2hr       0.05      0.83      0.09     84421\n",
      " 15min-30min       0.00      0.00      0.00    770289\n",
      "       2-3hr       0.00      0.00      0.00      7452\n",
      " 30min-45min       0.09      0.15      0.11    181653\n",
      "        3hr>       0.00      0.00      0.00      4562\n",
      "   45min-1hr       0.00      0.00      0.00     92353\n",
      "     <=15min       0.00      0.00      0.00    731601\n",
      "\n",
      "    accuracy                           0.05   1872331\n",
      "   macro avg       0.02      0.14      0.03   1872331\n",
      "weighted avg       0.01      0.05      0.01   1872331\n",
      "\n"
     ]
    },
    {
     "name": "stderr",
     "output_type": "stream",
     "text": [
      "C:\\Users\\ddwal\\anaconda3\\envs\\py311\\Lib\\site-packages\\sklearn\\metrics\\_classification.py:1344: UndefinedMetricWarning: Precision and F-score are ill-defined and being set to 0.0 in labels with no predicted samples. Use `zero_division` parameter to control this behavior.\n",
      "  _warn_prf(average, modifier, msg_start, len(result))\n"
     ]
    },
    {
     "data": {
      "image/png": "[encoded data removed]",
      "text/plain": [
       "<Figure size 640x480 with 2 Axes>"
      ]
     },
     "metadata": {},
     "output_type": "display_data"
    }
   ],
   "source": [
    "print(\"Confusion Matrix\")\n",
    "cm = confusion_matrix(ytrain, y_pred)\n",
    "ConfusionMatrixDisplay(cm).plot()\n",
    "print('Precision is ', precision_score(ytrain, y_pred, average=None))\n",
    "print('Precision as macro is ', precision_score(ytrain, y_pred, average='macro'))\n",
    "print('Precision as weighted is ', precision_score(ytrain, y_pred, average='weighted'))\n",
    "print('Recall is ', recall_score(ytrain, y_pred, average=None))\n",
    "print('Recall as macro is ', recall_score(ytrain, y_pred, average='macro'))\n",
    "print('Recall as weighted is ', recall_score(ytrain, y_pred, average='weighted'))\n",
    "print('F1 is ', f1_score(ytrain, y_pred, average=None))\n",
    "print('F1 as macro is ', f1_score(ytrain, y_pred, average='macro'))\n",
    "print('F1 as weighted is ', f1_score(ytrain, y_pred, average='weighted'))\n",
    "print(classification_report(ytrain, y_pred))"
   ]
  }
 ],
 "metadata": {
  "kernelspec": {
   "display_name": "Python 3 (ipykernel)",
   "language": "python",
   "name": "python3"
  },
  "language_info": {
   "codemirror_mode": {
    "name": "ipython",
    "version": 3
   },
   "file_extension": ".py",
   "mimetype": "text/x-python",
   "name": "python",
   "nbconvert_exporter": "python",
   "pygments_lexer": "ipython3",
   "version": "3.11.0"
  }
 },
 "nbformat": 4,
 "nbformat_minor": 5
}
