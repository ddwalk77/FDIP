{
 "cells": [
  {
   "cell_type": "markdown",
   "id": "9f550096-b844-4d95-b7d5-93fea8c7e0c5",
   "metadata": {},
   "source": [
    "# 44688-Data Analytics Capstone Project"
   ]
  },
  {
   "cell_type": "markdown",
   "id": "15d3e94f-a782-4c85-89cb-b28708c2361d",
   "metadata": {},
   "source": [
    "## FDIP (Fire Department Incident Prediction)"
   ]
  },
  {
   "cell_type": "markdown",
   "id": "701afb10-b4b7-4974-9919-45fe27b9453f",
   "metadata": {},
   "source": [
    "##### 03/13/23 - 04/28/23"
   ]
  },
  {
   "cell_type": "markdown",
   "id": "028601f4-6258-4354-b1d6-19e338ea4a80",
   "metadata": {},
   "source": [
    "##### Debra D. \"DeeDee\" Walker"
   ]
  },
  {
   "cell_type": "markdown",
   "id": "577262e4-2391-446e-807c-77fd1893aa31",
   "metadata": {},
   "source": [
    "##### Northwest Missouri State University, Maryville MO 64468, USA"
   ]
  },
  {
   "cell_type": "code",
   "execution_count": 1,
   "id": "603a0356-5291-4614-993b-eeb222579078",
   "metadata": {},
   "outputs": [
    {
     "data": {
      "text/html": [
       "<div>\n",
       "<style scoped>\n",
       "    .dataframe tbody tr th:only-of-type {\n",
       "        vertical-align: middle;\n",
       "    }\n",
       "\n",
       "    .dataframe tbody tr th {\n",
       "        vertical-align: top;\n",
       "    }\n",
       "\n",
       "    .dataframe thead th {\n",
       "        text-align: right;\n",
       "    }\n",
       "</style>\n",
       "<table border=\"1\" class=\"dataframe\">\n",
       "  <thead>\n",
       "    <tr style=\"text-align: right;\">\n",
       "      <th></th>\n",
       "      <th>IM_INCIDENT_KEY</th>\n",
       "      <th>INCIDENT_DATE_TIME</th>\n",
       "      <th>UNITS_ONSCENE</th>\n",
       "      <th>TOTAL_INCIDENT_DURATION</th>\n",
       "      <th>ZIP_CODE</th>\n",
       "      <th>BOROUGH_DESC</th>\n",
       "      <th>INCIDENT_CATEGORY</th>\n",
       "      <th>INCIDENT_CATNUM</th>\n",
       "      <th>LEVEL_CATEGORY</th>\n",
       "      <th>BOROUGH_NUM</th>\n",
       "      <th>Day_of_week</th>\n",
       "      <th>Hour_of_day</th>\n",
       "      <th>MONTH</th>\n",
       "      <th>DAY_NUM</th>\n",
       "      <th>INCIDENT_LENGTH</th>\n",
       "      <th>UNITS_CATEGORY</th>\n",
       "    </tr>\n",
       "  </thead>\n",
       "  <tbody>\n",
       "    <tr>\n",
       "      <th>0</th>\n",
       "      <td>63583742</td>\n",
       "      <td>2018-07-21 12:18:19</td>\n",
       "      <td>1</td>\n",
       "      <td>0.66</td>\n",
       "      <td>10475</td>\n",
       "      <td>2 - Bronx</td>\n",
       "      <td>RESCUE &amp; EMS</td>\n",
       "      <td>3</td>\n",
       "      <td>1</td>\n",
       "      <td>2</td>\n",
       "      <td>Saturday</td>\n",
       "      <td>12</td>\n",
       "      <td>7</td>\n",
       "      <td>6</td>\n",
       "      <td>30min-45min</td>\n",
       "      <td>1</td>\n",
       "    </tr>\n",
       "    <tr>\n",
       "      <th>1</th>\n",
       "      <td>63583743</td>\n",
       "      <td>2018-07-21 12:18:26</td>\n",
       "      <td>1</td>\n",
       "      <td>0.12</td>\n",
       "      <td>11230</td>\n",
       "      <td>4 - Brooklyn</td>\n",
       "      <td>RESCUE &amp; EMS</td>\n",
       "      <td>3</td>\n",
       "      <td>1</td>\n",
       "      <td>4</td>\n",
       "      <td>Saturday</td>\n",
       "      <td>12</td>\n",
       "      <td>7</td>\n",
       "      <td>6</td>\n",
       "      <td>&lt;=15min</td>\n",
       "      <td>1</td>\n",
       "    </tr>\n",
       "    <tr>\n",
       "      <th>2</th>\n",
       "      <td>63584267</td>\n",
       "      <td>2018-07-21 14:16:40</td>\n",
       "      <td>2</td>\n",
       "      <td>0.02</td>\n",
       "      <td>11204</td>\n",
       "      <td>4 - Brooklyn</td>\n",
       "      <td>HAZARDOUS CONDITION-NO FIRE</td>\n",
       "      <td>4</td>\n",
       "      <td>1</td>\n",
       "      <td>4</td>\n",
       "      <td>Saturday</td>\n",
       "      <td>14</td>\n",
       "      <td>7</td>\n",
       "      <td>6</td>\n",
       "      <td>&lt;=15min</td>\n",
       "      <td>2</td>\n",
       "    </tr>\n",
       "    <tr>\n",
       "      <th>3</th>\n",
       "      <td>63584484</td>\n",
       "      <td>2018-07-21 15:07:51</td>\n",
       "      <td>1</td>\n",
       "      <td>0.37</td>\n",
       "      <td>11235</td>\n",
       "      <td>4 - Brooklyn</td>\n",
       "      <td>SERVICE CALL</td>\n",
       "      <td>5</td>\n",
       "      <td>1</td>\n",
       "      <td>4</td>\n",
       "      <td>Saturday</td>\n",
       "      <td>15</td>\n",
       "      <td>7</td>\n",
       "      <td>6</td>\n",
       "      <td>15min-30min</td>\n",
       "      <td>1</td>\n",
       "    </tr>\n",
       "    <tr>\n",
       "      <th>4</th>\n",
       "      <td>63584485</td>\n",
       "      <td>2018-07-21 15:08:36</td>\n",
       "      <td>1</td>\n",
       "      <td>0.32</td>\n",
       "      <td>11208</td>\n",
       "      <td>4 - Brooklyn</td>\n",
       "      <td>RESCUE &amp; EMS</td>\n",
       "      <td>3</td>\n",
       "      <td>1</td>\n",
       "      <td>4</td>\n",
       "      <td>Saturday</td>\n",
       "      <td>15</td>\n",
       "      <td>7</td>\n",
       "      <td>6</td>\n",
       "      <td>15min-30min</td>\n",
       "      <td>1</td>\n",
       "    </tr>\n",
       "  </tbody>\n",
       "</table>\n",
       "</div>"
      ],
      "text/plain": [
       "   IM_INCIDENT_KEY  INCIDENT_DATE_TIME  UNITS_ONSCENE  \\\n",
       "0         63583742 2018-07-21 12:18:19              1   \n",
       "1         63583743 2018-07-21 12:18:26              1   \n",
       "2         63584267 2018-07-21 14:16:40              2   \n",
       "3         63584484 2018-07-21 15:07:51              1   \n",
       "4         63584485 2018-07-21 15:08:36              1   \n",
       "\n",
       "   TOTAL_INCIDENT_DURATION  ZIP_CODE  BOROUGH_DESC  \\\n",
       "0                     0.66     10475     2 - Bronx   \n",
       "1                     0.12     11230  4 - Brooklyn   \n",
       "2                     0.02     11204  4 - Brooklyn   \n",
       "3                     0.37     11235  4 - Brooklyn   \n",
       "4                     0.32     11208  4 - Brooklyn   \n",
       "\n",
       "             INCIDENT_CATEGORY  INCIDENT_CATNUM  LEVEL_CATEGORY  BOROUGH_NUM  \\\n",
       "0                 RESCUE & EMS                3               1            2   \n",
       "1                 RESCUE & EMS                3               1            4   \n",
       "2  HAZARDOUS CONDITION-NO FIRE                4               1            4   \n",
       "3                 SERVICE CALL                5               1            4   \n",
       "4                 RESCUE & EMS                3               1            4   \n",
       "\n",
       "  Day_of_week  Hour_of_day  MONTH  DAY_NUM INCIDENT_LENGTH UNITS_CATEGORY  \n",
       "0    Saturday           12      7        6     30min-45min              1  \n",
       "1    Saturday           12      7        6         <=15min              1  \n",
       "2    Saturday           14      7        6         <=15min              2  \n",
       "3    Saturday           15      7        6     15min-30min              1  \n",
       "4    Saturday           15      7        6     15min-30min              1  "
      ]
     },
     "execution_count": 1,
     "metadata": {},
     "output_type": "execute_result"
    }
   ],
   "source": [
    "#Import the pandas framework to import and work with the dataset\n",
    "import pandas as pd\n",
    "\n",
    "#Import numpy\n",
    "import numpy as np\n",
    "\n",
    "#Import datetime so we can work with dates and times\n",
    "import datetime as dt\n",
    "\n",
    "#Original data was accessed through the csv file download due to the limitations of the API on the site for this large dataset. The API endpoint limits hits and requires data to be requested by page\n",
    "# Data was pulled from https://data.cityofnewyork.us/Public-Safety/Incidents-Responded-to-by-Fire-Companies/tm6d-hbzd on March 16, 2023 then cleaned for use.\n",
    "#Use the function read_csv from pandas and create a dataframe assigned to variable df\n",
    "df = pd.read_csv('fdip_clean.csv', sep=',')\n",
    "\n",
    "#convert INCIDENT_DATE_TIME from object to datetime format\n",
    "df['INCIDENT_DATE_TIME'] = pd.to_datetime(df['INCIDENT_DATE_TIME'], infer_datetime_format = True)\n",
    "\n",
    "df.head(n=5)"
   ]
  },
  {
   "cell_type": "markdown",
   "id": "dba249da-cadc-4d6d-b2ed-f55751c5cf55",
   "metadata": {},
   "source": [
    "##### Level Catergory is being dropped from the predictions because it is too skewed to the level of one to gain valid information and we can gain enough\n",
    "#####  information from incident category, incident length, and units catergory"
   ]
  },
  {
   "cell_type": "markdown",
   "id": "8f2bbdde-ccf0-4fa0-a819-acda1ffda486",
   "metadata": {},
   "source": [
    "#### Split Data and extract features"
   ]
  },
  {
   "cell_type": "code",
   "execution_count": 2,
   "id": "49cb815d-3a5d-487e-9034-0661300ab5f5",
   "metadata": {},
   "outputs": [],
   "source": [
    "from sklearn.model_selection import train_test_split\n",
    "\n",
    "Xfeatures = df[['ZIP_CODE','Hour_of_day']]\n",
    "ylabels = df[['INCIDENT_CATEGORY','INCIDENT_LENGTH','UNITS_CATEGORY']]\n",
    "Xtrain, Xtest, ytrain, ytest = train_test_split(Xfeatures, ylabels, train_size=0.8, random_state=50)"
   ]
  },
  {
   "cell_type": "markdown",
   "id": "c5cb34f0-6447-4f75-bd38-0398fe0267d6",
   "metadata": {},
   "source": [
    "#### Import sklearn classifiers, etc. for models"
   ]
  },
  {
   "cell_type": "code",
   "execution_count": 3,
   "id": "f4867b52-1ded-4452-8850-048bff67c1a9",
   "metadata": {},
   "outputs": [],
   "source": [
    "from sklearn.ensemble import RandomForestClassifier\n",
    "from sklearn.multioutput import MultiOutputClassifier"
   ]
  },
  {
   "cell_type": "markdown",
   "id": "89a5b9a1-e8fc-4af6-840a-c32c47596df8",
   "metadata": {},
   "source": [
    "#### Random Forest with MultiOutput"
   ]
  },
  {
   "cell_type": "code",
   "execution_count": 4,
   "id": "c53bdede-1c2e-42ab-b053-74cda8811b00",
   "metadata": {},
   "outputs": [
    {
     "name": "stdout",
     "output_type": "stream",
     "text": [
      "Predicted y: [['RESCUE & EMS' '<=15min' '1']\n",
      " ['RESCUE & EMS' '<=15min' '1']\n",
      " ['RESCUE & EMS' '<=15min' '1']\n",
      " ...\n",
      " ['RESCUE & EMS' '<=15min' '1']\n",
      " ['RESCUE & EMS' '<=15min' '1']\n",
      " ['RESCUE & EMS' '<=15min' '1']]\n",
      "\n",
      "Predicted probabilities: [array([[7.77263226e-02, 1.62244483e-01, 7.35079689e-02, ...,\n",
      "        5.00502669e-01, 9.97855190e-02, 0.00000000e+00],\n",
      "       [6.94922300e-02, 1.48460336e-01, 6.43551235e-02, ...,\n",
      "        5.61167802e-01, 7.82544930e-02, 1.33624928e-04],\n",
      "       [7.68955308e-02, 1.42820816e-01, 8.19391434e-02, ...,\n",
      "        5.05151762e-01, 8.44326841e-02, 1.55851020e-03],\n",
      "       ...,\n",
      "       [9.49329550e-02, 1.37825373e-01, 6.87216664e-02, ...,\n",
      "        5.71712909e-01, 5.85591450e-02, 0.00000000e+00],\n",
      "       [6.79825751e-02, 1.19948657e-01, 8.52473311e-02, ...,\n",
      "        5.12611604e-01, 1.07033432e-01, 5.50364379e-04],\n",
      "       [7.55942263e-02, 1.35746764e-01, 9.72057893e-02, ...,\n",
      "        5.06706746e-01, 1.06638374e-01, 2.55910941e-06]]), array([[3.93343211e-02, 3.83534671e-01, 1.48379143e-02, ...,\n",
      "        2.62956795e-03, 2.49264809e-02, 4.43333084e-01],\n",
      "       [2.58996324e-02, 3.81996210e-01, 1.50124947e-03, ...,\n",
      "        4.66435395e-04, 2.67274863e-02, 4.97791247e-01],\n",
      "       [2.92474391e-02, 4.11903610e-01, 3.63340192e-03, ...,\n",
      "        1.61255016e-03, 9.19970674e-03, 4.97901768e-01],\n",
      "       ...,\n",
      "       [3.05734446e-02, 3.93278526e-01, 0.00000000e+00, ...,\n",
      "        0.00000000e+00, 1.12661174e-02, 5.03071754e-01],\n",
      "       [2.60285822e-02, 4.21279906e-01, 1.17657494e-03, ...,\n",
      "        1.61472222e-03, 2.71725356e-02, 4.45045984e-01],\n",
      "       [3.37703275e-02, 4.20917798e-01, 2.89742565e-03, ...,\n",
      "        4.79647127e-03, 2.35446937e-02, 4.44178546e-01]]), array([[0.57511648, 0.24172906, 0.06454426, ..., 0.02840409, 0.02399881,\n",
      "        0.02267159],\n",
      "       [0.67038915, 0.14618941, 0.08340525, ..., 0.02436617, 0.02433656,\n",
      "        0.0147461 ],\n",
      "       [0.6523828 , 0.18796895, 0.05741999, ..., 0.0444401 , 0.02292485,\n",
      "        0.01220007],\n",
      "       ...,\n",
      "       [0.78394831, 0.12834685, 0.02093323, ..., 0.00911833, 0.03820897,\n",
      "        0.        ],\n",
      "       [0.64750479, 0.12423661, 0.07652938, ..., 0.0453617 , 0.04494801,\n",
      "        0.01780661],\n",
      "       [0.62820783, 0.14320639, 0.08668019, ..., 0.04302546, 0.05036917,\n",
      "        0.00834649]])]\n",
      "\n",
      "The mean accuracy on the given test data and labels: 0.19269562913822397\n"
     ]
    }
   ],
   "source": [
    "forest_model = RandomForestClassifier(random_state=50, max_depth=20, n_estimators=200)\n",
    "multi_forest = MultiOutputClassifier(forest_model)\n",
    "multi_forest.fit(Xtrain,ytrain)\n",
    "y_pred = multi_forest.predict(Xtrain)\n",
    "print(\"Predicted y:\", y_pred)\n",
    "print()\n",
    "print(\"Predicted probabilities:\", multi_forest.predict_proba(Xtrain))\n",
    "print()\n",
    "print(\"The mean accuracy on the given test data and labels:\", multi_forest.score(Xtrain,ytrain))"
   ]
  }
 ],
 "metadata": {
  "kernelspec": {
   "display_name": "Python 3 (ipykernel)",
   "language": "python",
   "name": "python3"
  },
  "language_info": {
   "codemirror_mode": {
    "name": "ipython",
    "version": 3
   },
   "file_extension": ".py",
   "mimetype": "text/x-python",
   "name": "python",
   "nbconvert_exporter": "python",
   "pygments_lexer": "ipython3",
   "version": "3.11.0"
  }
 },
 "nbformat": 4,
 "nbformat_minor": 5
}
