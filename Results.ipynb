{
 "cells": [
  {
   "cell_type": "markdown",
   "id": "5b80d9ac-7986-4c7b-9d98-9ff89a3749fc",
   "metadata": {},
   "source": [
    "# Results\n",
    "\n",
    "| Model | Training Features | Labels | Set | Accuracy | F1 | Precision | Recall |\n",
    "|:---|:---|:---|:---|:---|:---|:---|:---|\n",
    "|Random Forest|'ZIP_CODE','BOROUGH_NUM','MONTH','Hour_of_day','DAY_NUM'|'INCIDENT_CATEGORY','INCIDENT_LENGTH','UNITS_CATEGORY'|Training|18.81|NA|NA|NA|\n",
    "|Random Forest|'ZIP_CODE','Hour_of_day'|'INCIDENT_CATEGORY','INCIDENT_LENGTH','UNITS_CATEGORY'|Training|19.27|NA|NA|NA|\n",
    "|Random Forest|'ZIP_CODE','Hour_of_day'|'INCIDENT_CATEGORY'|Training|49.53|9.1|11.43|12.83|\n",
    "|Random Forest|'ZIP_CODE','Hour_of_day'|'INCIDENT_LENGTH'|Training|46.28|14.70|13.33|16.47|\n",
    "|Random Forest|'ZIP_CODE','Hour_of_day'|'UNITS_CATEGORY'|Training|61.64|10.90|23.09|14.29|\n",
    "|MLP Classifier|'ZIP_CODE','BOROUGH_NUM','MONTH','Hour_of_day','DAY_NUM'|'INCIDENT_CATEGORY','INCIDENT_LENGTH','UNITS_CATEGORY'|Training|17.92|NA|NA|NA|\n",
    "|MLP Classifier|'ZIP_CODE','Hour_of_day'|'INCIDENT_CATEGORY'|Training|49.41|8.27|6.18|12.5|\n",
    "|MLP Classifier|'ZIP_CODE','Hour_of_day'|'INCIDENT_LENGTH'|Training|41.14|8.33|5.88|14.29|\n",
    "|MLP Classifier|'ZIP_CODE','Hour_of_day'|'UNITS_CATEGORY'|Training|61.64|10.90|8.81|14.29|\n",
    "|SGDClassifier|'ZIP_CODE','BOROUGH_NUM','MONTH','Hour_of_day','DAY_NUM'|'INCIDENT_CATEGORY','INCIDENT_LENGTH','UNITS_CATEGORY'|Training|17.92|NA|NA|NA|\n",
    "|SGDClassifier|'ZIP_CODE','Hour_of_day'|'INCIDENT_CATEGORY'|Training|49.41|8.27|6.18|12.5|\n",
    "|SGDClassifier|'ZIP_CODE','Hour_of_day'|'INCIDENT_LENGTH'|Training|5.23|2.80|1.90|14.05|\n",
    "|SGDClassifier|'ZIP_CODE','Hour_of_day'|'UNITS_CATEGORY'|Training|61.64|10.90|8.81|14.29|"
   ]
  }
 ],
 "metadata": {
  "kernelspec": {
   "display_name": "Python 3 (ipykernel)",
   "language": "python",
   "name": "python3"
  },
  "language_info": {
   "codemirror_mode": {
    "name": "ipython",
    "version": 3
   },
   "file_extension": ".py",
   "mimetype": "text/x-python",
   "name": "python",
   "nbconvert_exporter": "python",
   "pygments_lexer": "ipython3",
   "version": "3.11.0"
  }
 },
 "nbformat": 4,
 "nbformat_minor": 5
}
